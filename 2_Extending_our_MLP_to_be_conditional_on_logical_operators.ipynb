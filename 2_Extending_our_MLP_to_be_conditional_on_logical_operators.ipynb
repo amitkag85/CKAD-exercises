{
  "nbformat": 4,
  "nbformat_minor": 0,
  "metadata": {
    "colab": {
      "provenance": [],
      "gpuType": "T4",
      "include_colab_link": true
    },
    "kernelspec": {
      "name": "python3",
      "display_name": "Python 3"
    },
    "language_info": {
      "name": "python"
    },
    "gpuClass": "standard"
  },
  "cells": [
    {
      "cell_type": "markdown",
      "metadata": {
        "id": "view-in-github",
        "colab_type": "text"
      },
      "source": [
        "<a href=\"https://colab.research.google.com/github/amitkag85/CKAD-exercises/blob/master/2_Extending_our_MLP_to_be_conditional_on_logical_operators.ipynb\" target=\"_parent\"><img src=\"https://colab.research.google.com/assets/colab-badge.svg\" alt=\"Open In Colab\"/></a>"
      ]
    },
    {
      "cell_type": "markdown",
      "source": [
        "## Introduction\n",
        "\n",
        "Our goal is to extend our logical operation model in a couple ways:\n",
        "\n",
        "1. make a single model that can handle `AND`, `OR`, and `XOR`, depending on which one we ask for.\n",
        "2. make a model that will predict which logical operator was used, given the inputs and output.\n",
        "\n",
        "The main concepts this will demonstrate are making a model **conditional**, and predicting **probability distributions**."
      ],
      "metadata": {
        "id": "rM-dddGFIpqN"
      }
    },
    {
      "cell_type": "code",
      "execution_count": 1,
      "metadata": {
        "id": "fEBP4KOUiYe8"
      },
      "outputs": [],
      "source": [
        "import torch\n",
        "import torch.nn as nn\n",
        "from torch.utils.data import ConcatDataset, Dataset"
      ]
    },
    {
      "cell_type": "markdown",
      "source": [
        "## Simple Model: Multilayer Perceptron\n",
        "\n",
        "We'll define a simple multilayer perceptron ([MLP](https://en.wikipedia.org/wiki/Multilayer_perceptron) a.k.a. feedforward network) with one hidden layer. This will be a subclass of `torch.nn.Module`, which requires:\n",
        "* `__init__` with a call to `super().__init__()`\n",
        "* `forward()` which defines how to run the model given an input\n",
        "\n",
        "We will use the container [torch.nn.Sequential](https://pytorch.org/docs/stable/generated/torch.nn.Sequential.html#torch.nn.Sequential) to glue all of our layers into a single module that passes the output from the previous step as the input to the next. Note that you must ensure that the output dimensions of the previous layer match the input dimensions of the next.\n",
        "\n",
        "The main component which makes neural networks able to learn non-linear functions are the [activations](https://pytorch.org/docs/stable/nn.html#non-linear-activations-weighted-sum-nonlinearity) places between the various layers. Since this model is very small and simple, we will be using [torch.nn.Sigmoid](https://pytorch.org/docs/stable/generated/torch.nn.Sigmoid.html#torch.nn.Sigmoid), which produces an \"S curve\" that squashes all values to the range 0.0 - 1.0."
      ],
      "metadata": {
        "id": "wufDKTo7xrL9"
      }
    },
    {
      "cell_type": "code",
      "source": [
        "class MLP(nn.Module):\n",
        "  def __init__(self, input_dim, hidden_dim, output_dim):\n",
        "    super().__init__()\n",
        "    self.input_dim = input_dim\n",
        "    self.hidden_dim = hidden_dim\n",
        "    self.output_dim = output_dim\n",
        "\n",
        "    self.fc = nn.Sequential(\n",
        "        nn.Linear(self.input_dim, self.hidden_dim),\n",
        "        nn.LeakyReLU(),\n",
        "        nn.Linear(self.hidden_dim, self.output_dim),\n",
        "        nn.Sigmoid()\n",
        "    )\n",
        "\n",
        "  def forward(self, x):\n",
        "    # the `Sequential` can just be called on the input\n",
        "    return self.fc(x)"
      ],
      "metadata": {
        "id": "-fKJ3Gtgxrdt"
      },
      "execution_count": 2,
      "outputs": []
    },
    {
      "cell_type": "markdown",
      "source": [
        "## Device\n",
        "\n",
        "Torch supports multiple backends, most notibly `'cpu'` and `'cuda'` (with experimental support for Apple Metal as well). The main thing to remember is that all `Module`s and `Tensor`s neeed to be on the same device when running, or else you will get an error. Also note that all everything initially begins on CPU when created (with the exception of models that were saved while on GPU, but let's ignore that for now)."
      ],
      "metadata": {
        "id": "Df_tjsw9nJ7I"
      }
    },
    {
      "cell_type": "code",
      "source": [
        "# get the device we are using and save it for later. change the runtime\n",
        "# to GPU to see if print `cuda`\n",
        "device = 'cuda' if torch.cuda.is_available() else 'cpu'\n",
        "print(device)\n",
        "\n",
        "# create a tensor and send it to our device\n",
        "x = torch.randn(2,3, device=device)\n",
        "print(x)\n",
        "# you can also send things to a device after they are creates\n",
        "x = torch.randn(2, 3)\n",
        "print(x)\n",
        "x = x.to(device)\n",
        "print(x)\n",
        "\n",
        "# some operations, such as converting to a numpy array, require tensors\n",
        "# to be on the CPU specifically, so using `.cpu()` is helpful\n",
        "print(x.cpu().numpy())\n",
        "# there is also `.cuda()` but that asumesthat you actually have a GPU"
      ],
      "metadata": {
        "id": "a8XWWwmxnKEs",
        "colab": {
          "base_uri": "https://localhost:8080/"
        },
        "outputId": "fa31a3f4-b2d7-46c6-a9d3-5d14fa703f7e"
      },
      "execution_count": 3,
      "outputs": [
        {
          "output_type": "stream",
          "name": "stdout",
          "text": [
            "cpu\n",
            "tensor([[ 0.0682,  0.8186, -0.1895],\n",
            "        [ 1.0544,  1.8875, -0.5973]])\n",
            "tensor([[ 1.5405,  0.5023,  0.7658],\n",
            "        [-0.7287,  1.3163,  2.3349]])\n",
            "tensor([[ 1.5405,  0.5023,  0.7658],\n",
            "        [-0.7287,  1.3163,  2.3349]])\n",
            "[[ 1.5404756   0.502259    0.76583356]\n",
            " [-0.72872007  1.3163453   2.3348758 ]]\n"
          ]
        }
      ]
    },
    {
      "cell_type": "markdown",
      "source": [
        "## Dataset: Conditional Logic Operator\n",
        "\n"
      ],
      "metadata": {
        "id": "2iWUuzShp2a4"
      }
    },
    {
      "cell_type": "code",
      "source": [
        "OPERATOR = {\n",
        "    'AND': [1, 0, 0],\n",
        "    'OR': [0, 1, 0],\n",
        "    'XOR': [0, 0, 1]\n",
        "}\n",
        "\n",
        "class LogicDataset(Dataset):\n",
        "  def __init__(self):\n",
        "      pass\n",
        "\n",
        "  def __len__(self):\n",
        "    # return the number of training examples\n",
        "    return len(self.x)\n",
        "\n",
        "  def __getitem__(self, idx):\n",
        "    # return the input/output for a given example (by index)\n",
        "    op = OPERATOR[self.op]\n",
        "    x = op + self.x[idx]\n",
        "    y = self.y[idx]\n",
        "    return {'x': torch.FloatTensor(x), 'y': torch.FloatTensor([y])}\n",
        "\n",
        "\n",
        "class AndDataset(LogicDataset):\n",
        "  def __init__(self):\n",
        "    # example inputs\n",
        "    self.op = 'AND'\n",
        "\n",
        "    self.x = [\n",
        "        [0, 0],\n",
        "        [1, 0],\n",
        "        [0, 1],\n",
        "        [1, 1]\n",
        "    ]\n",
        "    # example outputs\n",
        "    self.y = [\n",
        "        0,\n",
        "        0,\n",
        "        0,\n",
        "        1\n",
        "    ]\n",
        "\n",
        "\n",
        "class OrDataset(LogicDataset):\n",
        "  def __init__(self):\n",
        "    # example inputs\n",
        "    self.op = 'OR'\n",
        "\n",
        "    self.x = [\n",
        "        [0, 0],\n",
        "        [1, 0],\n",
        "        [0, 1],\n",
        "        [1, 1]\n",
        "    ]\n",
        "    # example outputs\n",
        "    self.y = [\n",
        "        0,\n",
        "        1,\n",
        "        1,\n",
        "        1\n",
        "    ]\n",
        "\n",
        "\n",
        "class XorDataset(LogicDataset):\n",
        "  def __init__(self):\n",
        "    # example inputs\n",
        "    self.op = 'XOR'\n",
        "\n",
        "    self.x = [\n",
        "        [0, 0],\n",
        "        [1, 0],\n",
        "        [0, 1],\n",
        "        [1, 1]\n",
        "    ]\n",
        "    # example outputs\n",
        "    self.y = [\n",
        "        0,\n",
        "        1,\n",
        "        1,\n",
        "        0\n",
        "    ]"
      ],
      "metadata": {
        "id": "9TK2NUybp2nY"
      },
      "execution_count": 4,
      "outputs": []
    },
    {
      "cell_type": "code",
      "source": [
        "dataset = ConcatDataset([AndDataset(), OrDataset(), XorDataset()])\n",
        "print(len(dataset))\n",
        "for x in dataset:\n",
        "  print(x)"
      ],
      "metadata": {
        "id": "xss_e1kYkUl3",
        "colab": {
          "base_uri": "https://localhost:8080/"
        },
        "outputId": "7cc4dd27-724c-430e-a8e9-84529337be0e"
      },
      "execution_count": 5,
      "outputs": [
        {
          "output_type": "stream",
          "name": "stdout",
          "text": [
            "12\n",
            "{'x': tensor([1., 0., 0., 0., 0.]), 'y': tensor([0.])}\n",
            "{'x': tensor([1., 0., 0., 1., 0.]), 'y': tensor([0.])}\n",
            "{'x': tensor([1., 0., 0., 0., 1.]), 'y': tensor([0.])}\n",
            "{'x': tensor([1., 0., 0., 1., 1.]), 'y': tensor([1.])}\n",
            "{'x': tensor([0., 1., 0., 0., 0.]), 'y': tensor([0.])}\n",
            "{'x': tensor([0., 1., 0., 1., 0.]), 'y': tensor([1.])}\n",
            "{'x': tensor([0., 1., 0., 0., 1.]), 'y': tensor([1.])}\n",
            "{'x': tensor([0., 1., 0., 1., 1.]), 'y': tensor([1.])}\n",
            "{'x': tensor([0., 0., 1., 0., 0.]), 'y': tensor([0.])}\n",
            "{'x': tensor([0., 0., 1., 1., 0.]), 'y': tensor([1.])}\n",
            "{'x': tensor([0., 0., 1., 0., 1.]), 'y': tensor([1.])}\n",
            "{'x': tensor([0., 0., 1., 1., 1.]), 'y': tensor([0.])}\n"
          ]
        }
      ]
    },
    {
      "cell_type": "markdown",
      "source": [
        "## DataLoader and Batching\n",
        "\n"
      ],
      "metadata": {
        "id": "PCkwVhLqsNyU"
      }
    },
    {
      "cell_type": "code",
      "source": [
        "from torch.utils.data import DataLoader\n",
        "\n",
        "batch_size = 12\n",
        "\n",
        "dataloader = DataLoader(dataset, batch_size=batch_size, shuffle=True, drop_last=True)\n",
        "\n",
        "for batch in dataloader:\n",
        "  x = batch['x']\n",
        "  y = batch['y']\n",
        "  print(x, 'x.size()', x.size())\n",
        "  print(y, 'y.size()', y.size())"
      ],
      "metadata": {
        "id": "U2GwzQWRsOiE",
        "colab": {
          "base_uri": "https://localhost:8080/"
        },
        "outputId": "037b40ad-dde5-4164-8210-584003ec8627"
      },
      "execution_count": 6,
      "outputs": [
        {
          "output_type": "stream",
          "name": "stdout",
          "text": [
            "tensor([[1., 0., 0., 0., 1.],\n",
            "        [0., 0., 1., 1., 0.],\n",
            "        [0., 1., 0., 0., 0.],\n",
            "        [1., 0., 0., 1., 0.],\n",
            "        [0., 0., 1., 1., 1.],\n",
            "        [0., 0., 1., 0., 1.],\n",
            "        [1., 0., 0., 0., 0.],\n",
            "        [0., 1., 0., 1., 0.],\n",
            "        [0., 1., 0., 1., 1.],\n",
            "        [0., 0., 1., 0., 0.],\n",
            "        [0., 1., 0., 0., 1.],\n",
            "        [1., 0., 0., 1., 1.]]) x.size() torch.Size([12, 5])\n",
            "tensor([[0.],\n",
            "        [1.],\n",
            "        [0.],\n",
            "        [0.],\n",
            "        [0.],\n",
            "        [1.],\n",
            "        [0.],\n",
            "        [1.],\n",
            "        [1.],\n",
            "        [0.],\n",
            "        [1.],\n",
            "        [1.]]) y.size() torch.Size([12, 1])\n"
          ]
        }
      ]
    },
    {
      "cell_type": "markdown",
      "source": [
        "## Training Setup\n",
        "\n"
      ],
      "metadata": {
        "id": "rZX3m03zvwp9"
      }
    },
    {
      "cell_type": "code",
      "source": [
        "from torch.optim import Adam\n",
        "from tqdm import trange  # gives us a nice progress bar\n",
        "\n",
        "epochs = 10000  # the number of times to iterate through the training data\n",
        "\n",
        "model = MLP(5, 4, 1)  # create an instance of our model\n",
        "model = model.to(device)  # send the model to the appropriate device\n",
        "print(model.train())  # set the model to train mode (default) and print it for good measure\n",
        "opt = Adam(model.parameters())  # initialize the optimizer with the model parameters\n",
        "loss_fn = nn.MSELoss()  # create an instance of our loss function\n",
        "losses = []  # create an empty list for tracking the loss every epoch\n",
        "\n",
        "for epoch in trange(epochs):  # loop for the number of epochs\n",
        "  for batch in dataloader:  # iterate through the dataset\n",
        "\n",
        "    # get the inputs and target outputs and send them to the device\n",
        "    x = batch['x'].to(device)\n",
        "    y = batch['y'].to(device)\n",
        "\n",
        "    # run the model and get its prediction\n",
        "    y_hat = model(x)\n",
        "\n",
        "    # calculate the loss\n",
        "    loss = loss_fn(y_hat, y)\n",
        "\n",
        "    # clear the previous gradient from the optimizer\n",
        "    opt.zero_grad()\n",
        "    # calculate the gradient based on the loss\n",
        "    loss.backward()\n",
        "    # update the model weights based on the gradient\n",
        "    opt.step()\n",
        "\n",
        "    '''\n",
        "    Store the loss in a list so that we can plot it later.\n",
        "    When doing so however, we need to call `.detach()` in\n",
        "    order to remove the gradient, `.cpu()` to make sure it\n",
        "    is on the CPU, and `.numpy()` to convert it into a numpy\n",
        "    value because matplotlib doesn't work directly on tensors.\n",
        "    '''\n",
        "    losses.append(loss.detach().cpu().numpy())"
      ],
      "metadata": {
        "id": "LV-3ISDbsjmO",
        "colab": {
          "base_uri": "https://localhost:8080/"
        },
        "outputId": "5d491943-9b2e-4da8-dbd3-b9728c1374d1"
      },
      "execution_count": 7,
      "outputs": [
        {
          "output_type": "stream",
          "name": "stdout",
          "text": [
            "MLP(\n",
            "  (fc): Sequential(\n",
            "    (0): Linear(in_features=5, out_features=4, bias=True)\n",
            "    (1): LeakyReLU(negative_slope=0.01)\n",
            "    (2): Linear(in_features=4, out_features=1, bias=True)\n",
            "    (3): Sigmoid()\n",
            "  )\n",
            ")\n"
          ]
        },
        {
          "output_type": "stream",
          "name": "stderr",
          "text": [
            "100%|██████████| 10000/10000 [00:18<00:00, 536.25it/s]\n"
          ]
        }
      ]
    },
    {
      "cell_type": "code",
      "source": [
        "import matplotlib.pyplot as plt\n",
        "\n",
        "plt.plot(losses)\n",
        "plt.show()"
      ],
      "metadata": {
        "id": "plvMl6o6zMSe",
        "colab": {
          "base_uri": "https://localhost:8080/",
          "height": 430
        },
        "outputId": "83353bd5-eab6-40b2-dc01-de69948a2f0f"
      },
      "execution_count": 8,
      "outputs": [
        {
          "output_type": "display_data",
          "data": {
            "text/plain": [
              "<Figure size 640x480 with 1 Axes>"
            ],
            "image/png": "[encoded data removed]"
          },
          "metadata": {}
        }
      ]
    },
    {
      "cell_type": "markdown",
      "source": [
        "Since our training data is so small, we can iterate through all examples and compare the prediction to the target. For more complex datasets/tasks could use a test set to plot the validation loss, calculate a confusion matrix, etc."
      ],
      "metadata": {
        "id": "uWIj3DeKgbVg"
      }
    },
    {
      "cell_type": "code",
      "source": [
        "model = model.cpu()\n",
        "model.eval()\n",
        "\n",
        "with torch.no_grad():\n",
        "  for i, example in enumerate(dataset):\n",
        "    x = example['x']\n",
        "    y = example['y']\n",
        "    y_hat = model(x)\n",
        "    loss = loss_fn(y_hat, y)\n",
        "    print('x:', x, 'y:', y, 'y_hat:', y_hat, 'predicion:', y_hat.round(), 'loss:', loss)\n",
        "    if i % 4 == 3:\n",
        "      print('')"
      ],
      "metadata": {
        "id": "PnFPlJUBz4pe"
      },
      "execution_count": null,
      "outputs": []
    },
    {
      "cell_type": "markdown",
      "source": [
        "## Logic Operator Prediction\n",
        "\n"
      ],
      "metadata": {
        "id": "Qj2beAmMvNw2"
      }
    },
    {
      "cell_type": "code",
      "source": [
        "class MLP(nn.Module):\n",
        "  def __init__(self, input_dim, hidden_dim, output_dim):\n",
        "    super().__init__()\n",
        "    self.input_dim = input_dim\n",
        "    self.hidden_dim = hidden_dim\n",
        "    self.output_dim = output_dim\n",
        "\n",
        "    self.fc = nn.Sequential(\n",
        "        nn.Linear(self.input_dim, self.hidden_dim),\n",
        "        nn.LeakyReLU(),\n",
        "        nn.Linear(self.hidden_dim, self.output_dim)\n",
        "    )\n",
        "\n",
        "  def forward(self, x):\n",
        "    # the `Sequential` can just be called on the input\n",
        "    return self.fc(x)"
      ],
      "metadata": {
        "id": "rSayE8cdxiAG"
      },
      "execution_count": null,
      "outputs": []
    },
    {
      "cell_type": "code",
      "source": [
        "OPERATOR = {\n",
        "    'AND': 0,\n",
        "    'OR': 1,\n",
        "    'XOR': 2\n",
        "}\n",
        "\n",
        "class LogicDataset(Dataset):\n",
        "  def __init__(self):\n",
        "      pass\n",
        "\n",
        "  def __len__(self):\n",
        "    # return the number of training examples\n",
        "    return len(self.x)\n",
        "\n",
        "  def __getitem__(self, idx):\n",
        "    # return the input/output for a given example (by index)\n",
        "    x = self.x[idx] + [self.y[idx]]\n",
        "    y = OPERATOR[self.op]\n",
        "    return {'x': torch.FloatTensor(x), 'y': torch.LongTensor([y])}\n",
        "\n",
        "\n",
        "class AndDataset(LogicDataset):\n",
        "  def __init__(self):\n",
        "    # example inputs\n",
        "    self.op = 'AND'\n",
        "\n",
        "    self.x = [\n",
        "        [0, 0],\n",
        "        [1, 0],\n",
        "        [0, 1],\n",
        "        [1, 1]\n",
        "    ]\n",
        "    # example outputs\n",
        "    self.y = [\n",
        "        0,\n",
        "        0,\n",
        "        0,\n",
        "        1\n",
        "    ]\n",
        "\n",
        "\n",
        "class OrDataset(LogicDataset):\n",
        "  def __init__(self):\n",
        "    # example inputs\n",
        "    self.op = 'OR'\n",
        "\n",
        "    self.x = [\n",
        "        [0, 0],\n",
        "        [1, 0],\n",
        "        [0, 1],\n",
        "        [1, 1]\n",
        "    ]\n",
        "    # example outputs\n",
        "    self.y = [\n",
        "        0,\n",
        "        1,\n",
        "        1,\n",
        "        1\n",
        "    ]\n",
        "\n",
        "\n",
        "class XorDataset(LogicDataset):\n",
        "  def __init__(self):\n",
        "    # example inputs\n",
        "    self.op = 'XOR'\n",
        "\n",
        "    self.x = [\n",
        "        [0, 0],\n",
        "        [1, 0],\n",
        "        [0, 1],\n",
        "        [1, 1]\n",
        "    ]\n",
        "    # example outputs\n",
        "    self.y = [\n",
        "        0,\n",
        "        1,\n",
        "        1,\n",
        "        0\n",
        "    ]"
      ],
      "metadata": {
        "id": "Kuoe_piVvNw_"
      },
      "execution_count": null,
      "outputs": []
    },
    {
      "cell_type": "code",
      "source": [
        "dataset = ConcatDataset([AndDataset(), OrDataset(), XorDataset()])\n",
        "print(len(dataset))\n",
        "for x in dataset:\n",
        "  print(x)"
      ],
      "metadata": {
        "id": "8Hgi5Cw0vNw_"
      },
      "execution_count": null,
      "outputs": []
    },
    {
      "cell_type": "markdown",
      "source": [
        "## DataLoader and Batching\n",
        "\n"
      ],
      "metadata": {
        "id": "KCAoeQyMvNw_"
      }
    },
    {
      "cell_type": "code",
      "source": [
        "from torch.utils.data import DataLoader\n",
        "\n",
        "batch_size = 12\n",
        "\n",
        "dataloader = DataLoader(dataset, batch_size=batch_size, shuffle=True, drop_last=True)\n",
        "\n",
        "for batch in dataloader:\n",
        "  x = batch['x']\n",
        "  y = batch['y']\n",
        "  print(x, 'x.size()', x.size())\n",
        "  print(y, 'y.size()', y.size())"
      ],
      "metadata": {
        "id": "CPhXSySevNw_"
      },
      "execution_count": null,
      "outputs": []
    },
    {
      "cell_type": "markdown",
      "source": [
        "## Training Setup\n",
        "\n"
      ],
      "metadata": {
        "id": "z2ZlG9jTvNw_"
      }
    },
    {
      "cell_type": "code",
      "source": [
        "from torch.optim import Adam\n",
        "from tqdm import trange  # gives us a nice progress bar\n",
        "\n",
        "epochs = 10000  # the number of times to iterate through the training data\n",
        "\n",
        "model = MLP(3, 4, 3)  # create an instance of our model\n",
        "model = model.to(device)  # send the model to the appropriate device\n",
        "print(model.train())  # set the model to train mode (default) and print it for good measure\n",
        "opt = Adam(model.parameters())  # initialize the optimizer with the model parameters\n",
        "loss_fn = nn.CrossEntropyLoss()  # create an instance of our loss function\n",
        "losses = []  # create an empty list for tracking the loss every epoch\n",
        "\n",
        "for epoch in trange(epochs):  # loop for the number of epochs\n",
        "  for batch in dataloader:  # iterate through the dataset\n",
        "\n",
        "    # get the inputs and target outputs and send them to the device\n",
        "    x = batch['x'].to(device)\n",
        "    y = batch['y'].squeeze().to(device)\n",
        "\n",
        "    # run the model and get its prediction\n",
        "    y_hat = model(x)\n",
        "\n",
        "    # calculate the loss\n",
        "    loss = loss_fn(y_hat, y)\n",
        "\n",
        "    # clear the previous gradient from the optimizer\n",
        "    opt.zero_grad()\n",
        "    # calculate the gradient based on the loss\n",
        "    loss.backward()\n",
        "    # update the model weights based on the gradient\n",
        "    opt.step()\n",
        "\n",
        "    '''\n",
        "    Store the loss in a list so that we can plot it later.\n",
        "    When doing so however, we need to call `.detach()` in\n",
        "    order to remove the gradient, `.cpu()` to make sure it\n",
        "    is on the CPU, and `.numpy()` to convert it into a numpy\n",
        "    value because matplotlib doesn't work directly on tensors.\n",
        "    '''\n",
        "    losses.append(loss.detach().cpu().numpy())"
      ],
      "metadata": {
        "id": "tkWRLZjnvNw_"
      },
      "execution_count": null,
      "outputs": []
    },
    {
      "cell_type": "code",
      "source": [
        "import matplotlib.pyplot as plt\n",
        "\n",
        "plt.plot(losses)\n",
        "plt.show()"
      ],
      "metadata": {
        "id": "oF0p8o2TvNw_"
      },
      "execution_count": null,
      "outputs": []
    },
    {
      "cell_type": "markdown",
      "source": [
        "Since our training data is so small, we can iterate through all examples and compare the prediction to the target. For more complex datasets/tasks could use a test set to plot the validation loss, calculate a confusion matrix, etc."
      ],
      "metadata": {
        "id": "wolxYzNrvNxA"
      }
    },
    {
      "cell_type": "code",
      "source": [
        "model = model.cpu()\n",
        "model.eval()\n",
        "\n",
        "with torch.no_grad():\n",
        "  for i, example in enumerate(dataset):\n",
        "    x = example['x']\n",
        "    y = example['y'].squeeze()\n",
        "    y_hat = model(x)\n",
        "    loss = loss_fn(y_hat, y)\n",
        "    print('x:', x, 'y:', y, 'y_hat:', y_hat.softmax(dim=-1), 'predicion:', y_hat.argmax(dim=-1))\n",
        "    if i % 4 == 3:\n",
        "      print('')"
      ],
      "metadata": {
        "id": "aXlqx03ivNxA"
      },
      "execution_count": null,
      "outputs": []
    },
    {
      "cell_type": "code",
      "source": [
        "model = model.cpu()\n",
        "model.eval()\n",
        "\n",
        "xs = []\n",
        "y_hats = []\n",
        "\n",
        "with torch.no_grad():\n",
        "  for example in dataset:\n",
        "    x = example['x']\n",
        "    y_hat = model(x)\n",
        "\n",
        "    xs.append(x)\n",
        "    y_hats.append(y_hat)"
      ],
      "metadata": {
        "id": "oIG1MzZ3yVIi"
      },
      "execution_count": null,
      "outputs": []
    },
    {
      "cell_type": "code",
      "source": [
        "fig, ax = plt.subplots(ncols=len(y_hats), sharey=True)\n",
        "\n",
        "for i, x in enumerate(y_hats):\n",
        "  ax[i].bar(range(3), y_hats[i].softmax(dim=-1))"
      ],
      "metadata": {
        "id": "7tf_-bnC2Tyg"
      },
      "execution_count": null,
      "outputs": []
    }
  ]
}